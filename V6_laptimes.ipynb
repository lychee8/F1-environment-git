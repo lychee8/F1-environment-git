{
 "cells": [
  {
   "cell_type": "code",
   "execution_count": 2,
   "id": "42837db2",
   "metadata": {},
   "outputs": [
    {
     "name": "stdout",
     "output_type": "stream",
     "text": [
      "raceId           int64\n",
      "driverId         int64\n",
      "lap              int64\n",
      "position         int64\n",
      "time            object\n",
      "milliseconds     int64\n",
      "dtype: object\n",
      "       raceId  driverId  lap  position      time  milliseconds\n",
      "49328    2013        20    1         1  2:01.790        121790\n",
      "64542    2013       818   10        15  1:56.462        116462\n",
      "64541    2013       818    9        15  1:55.561        115561\n",
      "64540    2013       818    8        15  1:56.079        116079\n",
      "64539    2013       818    7        15  1:56.186        116186\n"
     ]
    }
   ],
   "source": [
    "import pandas as pd\n",
    "\n",
    "df = pd.read_csv(\"lap_times.csv\")\n",
    "\n",
    "# print(df.head())\n",
    "# print(df.isnull().sum())\n",
    "print(df.dtypes)\n",
    "\n",
    "# print(df.columns)\n",
    "# df['driverId']\n",
    "\n",
    "\n",
    "df.columns =df.columns.str.strip()\n",
    "\n",
    "df['raceId'] = pd.to_numeric(df['raceId'], errors='coerce')\n",
    "\n",
    "df = df[df['raceId'] >= 880]\n",
    "\n",
    "# df['time'] = pd.to_numeric(df['time'], errors='coerce')\n",
    "\n",
    "df.loc[(df['raceId'] >= 880) & (df['raceId'] <= 899), 'raceId'] = 2013\n",
    "df.loc[(df['raceId'] >= 900) & (df['raceId'] <= 918), 'raceId'] = 2014\n",
    "df.loc[(df['raceId'] >= 919) & (df['raceId'] <= 945), 'raceId'] = 2015\n",
    "df.loc[(df['raceId'] >= 948) & (df['raceId'] <= 968), 'raceId'] = 2016\n",
    "df.loc[(df['raceId'] >= 969) & (df['raceId'] <= 988), 'raceId'] = 2017\n",
    "df.loc[(df['raceId'] >= 989) & (df['raceId'] <= 1009), 'raceId'] = 2018\n",
    "df.loc[(df['raceId'] >= 1010) & (df['raceId'] <= 1030), 'raceId'] = 2019\n",
    "df.loc[(df['raceId'] >= 1031) & (df['raceId'] <= 1047), 'raceId'] = 2020\n",
    "df.loc[(df['raceId'] >= 1051) & (df['raceId'] <= 1073), 'raceId'] = 2021\n",
    "df.loc[(df['raceId'] >= 1074) & (df['raceId'] <= 1096), 'raceId'] = 2022\n",
    "df.loc[(df['raceId'] >= 1098) & (df['raceId'] <= 1120), 'raceId'] = 2023\n",
    "df.loc[(df['raceId'] >= 1121) & (df['raceId'] <= 1144), 'raceId'] = 2024\n",
    "df.loc[(df['raceId'] >= 1145) & (df['raceId'] <= 1168), 'raceId'] = 2025\n",
    "\n",
    "df = df.sort_values(by='raceId', ascending=True)\n",
    "\n",
    "\n",
    "print(df.head())\n",
    "\n",
    "\n",
    "df.to_csv(\"cleaned_lap_times.csv\", index=False)"
   ]
  }
 ],
 "metadata": {
  "kernelspec": {
   "display_name": "base",
   "language": "python",
   "name": "python3"
  },
  "language_info": {
   "codemirror_mode": {
    "name": "ipython",
    "version": 3
   },
   "file_extension": ".py",
   "mimetype": "text/x-python",
   "name": "python",
   "nbconvert_exporter": "python",
   "pygments_lexer": "ipython3",
   "version": "3.13.5"
  }
 },
 "nbformat": 4,
 "nbformat_minor": 5
}
